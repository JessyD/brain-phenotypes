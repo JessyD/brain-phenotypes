{
 "cells": [
  {
   "cell_type": "code",
   "execution_count": null,
   "id": "161cab2e",
   "metadata": {},
   "outputs": [],
   "source": [
    "import pandas as pd\n",
    "import missingno as msno\n",
    "from pathlib import Path\n",
    "import json\n",
    "import numpy as np\n",
    "import seaborn as sns\n",
    "import matplotlib.pyplot as plt"
   ]
  },
  {
   "cell_type": "code",
   "execution_count": null,
   "id": "5b9acd98",
   "metadata": {},
   "outputs": [],
   "source": [
    "path_data = Path('/Datasets/BrainBlocks/DerivativeDatasets/HBN/brainblocks-0.1.0/phenotype/')\n",
    "\n",
    "# Load data\n",
    "variables_file = path_data / 'target_dictionary.txt'\n",
    "df_dic = pd.read_csv(variables_file)\n",
    "df_dic"
   ]
  },
  {
   "cell_type": "code",
   "execution_count": null,
   "id": "e7c57278",
   "metadata": {},
   "outputs": [],
   "source": [
    "# File paths\n",
    "training_file = path_data / \"phenotype_measures_separate_training.txt\"\n",
    "testing_file = path_data / \"phenotype_measures_separate_testing.txt\"\n",
    "validation_file = path_data / \"phenotype_measures_separate_validation.txt\"\n",
    "\n",
    "# Load files into pandas DataFrames\n",
    "training_data = pd.read_csv(training_file, sep=',')\n",
    "testing_data = pd.read_csv(testing_file, sep=',')\n",
    "validation_data = pd.read_csv(validation_file, sep=',')\n",
    "\n",
    "# 1: for females, 2 for males\n",
    "print(f\"train sex ratio: {training_data['sex_at_birth'].value_counts()}\")\n",
    "print(f\"val sex ratio: {validation_data['sex_at_birth'].value_counts()}\")\n",
    "print(f\"test sex ratio: {testing_data['sex_at_birth'].value_counts()}\")\n",
    "\n",
    "print(f\"train age: {training_data['age_at_scan'].mean():.2f} +- {training_data['age_at_scan'].std():.2f}\")\n",
    "print(f\"val age: {validation_data['age_at_scan'].mean():.2f} +- {validation_data['age_at_scan'].std():.2f}\")\n",
    "print(f\"test age: {testing_data['age_at_scan'].mean():.2f} +- {testing_data['age_at_scan'].std():.2f}\")"
   ]
  },
  {
   "cell_type": "markdown",
   "id": "c6356c33",
   "metadata": {},
   "source": [
    "## After imputation (also invalit WIAT)"
   ]
  },
  {
   "cell_type": "code",
   "execution_count": null,
   "id": "e25a96a9",
   "metadata": {},
   "outputs": [],
   "source": [
    "path_data = Path('/Datasets/BrainBlocks/DerivativeDatasets/HBN/brainblocks-0.1.0/phenotype-WIAT/')\n"
   ]
  },
  {
   "cell_type": "code",
   "execution_count": null,
   "id": "6df02084",
   "metadata": {},
   "outputs": [],
   "source": [
    "\n",
    "# File paths\n",
    "training_file = path_data / \"phenotype_measures_imputation-imputed_numeric_training_zscored.txt\"\n",
    "testing_file = path_data / \"phenotype_measures_imputation-imputed_numeric_testing_zscored.txt\"\n",
    "validation_file = path_data / \"phenotype_measures_imputation-imputed_numeric_validation_zscored.txt\"\n",
    "\n",
    "# Load files into pandas DataFrames\n",
    "training_data = pd.read_csv(training_file, sep=',')\n",
    "testing_data = pd.read_csv(testing_file, sep=',')\n",
    "validation_data = pd.read_csv(validation_file, sep=',')\n",
    "\n",
    "# Combine DataFrames\n",
    "combined_data = pd.concat([training_data, testing_data, validation_data], ignore_index=True)\n"
   ]
  },
  {
   "cell_type": "code",
   "execution_count": null,
   "id": "38f0e129",
   "metadata": {},
   "outputs": [],
   "source": [
    "combined_data"
   ]
  },
  {
   "cell_type": "code",
   "execution_count": null,
   "id": "437c0e3f",
   "metadata": {},
   "outputs": [],
   "source": [
    "print(f\"Data shape: {training_data.shape}, {testing_data.shape}, {validation_data.shape}\")"
   ]
  },
  {
   "cell_type": "code",
   "execution_count": null,
   "id": "0fd41a47",
   "metadata": {},
   "outputs": [],
   "source": [
    "pairwise_correlation = combined_data.corr()\n",
    "\n",
    "# Set up the matplotlib figure\n",
    "plt.figure(figsize=(12, 8))\n",
    "\n",
    "# Create a seaborn heatmap\n",
    "sns.heatmap(pairwise_correlation, cmap=\"RdBu_r\", annot=False, fmt=\".2f\", linewidths=.5)\n",
    "\n",
    "# Set plot title\n",
    "plt.title(\"Pairwise Correlation Heatmap\")\n"
   ]
  },
  {
   "cell_type": "markdown",
   "id": "97900603",
   "metadata": {},
   "source": [
    "## After imputation (select subset of variables)"
   ]
  },
  {
   "cell_type": "code",
   "execution_count": null,
   "id": "221ec34b",
   "metadata": {},
   "outputs": [],
   "source": [
    "# File paths\n",
    "path_data = Path('/Datasets/BrainBlocks/DerivativeDatasets/HBN/brainblocks-0.1.0/phenotype/')\n"
   ]
  },
  {
   "cell_type": "code",
   "execution_count": null,
   "id": "06e5089a",
   "metadata": {},
   "outputs": [],
   "source": [
    "# Check demographics of the data\n",
    "# File paths\n",
    "training_file = path_data / \"phenotype_measures_separate_training.txt\"\n",
    "testing_file = path_data / \"phenotype_measures_separate_testing.txt\"\n",
    "validation_file = path_data / \"phenotype_measures_separate_validation.txt\"\n",
    "\n",
    "# Load files into pandas DataFrames\n",
    "training_data = pd.read_csv(training_file, sep=',')\n",
    "testing_data = pd.read_csv(testing_file, sep=',')\n",
    "validation_data = pd.read_csv(validation_file, sep=',')\n",
    "\n",
    "print(f\"Training size: {training_data.shape}\")\n",
    "print(f\"Training age: {training_data['age_at_scan'].mean():.2f} +- {training_data['age_at_scan'].std():.2f}\")\n",
    "print(f\"Training sex: {training_data['sex_at_birth'].value_counts()}\")"
   ]
  },
  {
   "cell_type": "code",
   "execution_count": null,
   "id": "0a84b532",
   "metadata": {},
   "outputs": [],
   "source": [
    "print(f\"Testing size: {testing_data.shape}\")\n",
    "print(f\"Testing age: {testing_data['age_at_scan'].mean():.2f} +- {testing_data['age_at_scan'].std():.2f}\")\n",
    "print(f\"Testing sex: {testing_data['sex_at_birth'].value_counts()}\")"
   ]
  },
  {
   "cell_type": "code",
   "execution_count": null,
   "id": "6038be19",
   "metadata": {},
   "outputs": [],
   "source": [
    "print(f\"Validation size: {validation_data.shape}\")\n",
    "print(f\"Validation age: {validation_data['age_at_scan'].mean():.2f} +- {training_data['age_at_scan'].std():.2f}\")\n",
    "print(f\"Validation sex: {validation_data['sex_at_birth'].value_counts()}\")"
   ]
  },
  {
   "cell_type": "code",
   "execution_count": null,
   "id": "632bcffe",
   "metadata": {},
   "outputs": [],
   "source": [
    "training_file = path_data / \"phenotype_measures_imputation-imputed_numeric_training_zscored.txt\"\n",
    "testing_file = path_data / \"phenotype_measures_imputation-imputed_numeric_testing_zscored.txt\"\n",
    "validation_file = path_data / \"phenotype_measures_imputation-imputed_numeric_validation_zscored.txt\"\n",
    "\n",
    "# Load files into pandas DataFrames\n",
    "training_data = pd.read_csv(training_file, sep=',')\n",
    "testing_data = pd.read_csv(testing_file, sep=',')\n",
    "validation_data = pd.read_csv(validation_file, sep=',')\n",
    "\n",
    "# Combine DataFrames\n",
    "combined_data = pd.concat([training_data, testing_data, validation_data], ignore_index=True)\n"
   ]
  },
  {
   "cell_type": "code",
   "execution_count": null,
   "id": "59ecdb1a",
   "metadata": {},
   "outputs": [],
   "source": [
    "print(f\"Data shape: {training_data.shape}, {testing_data.shape}, {validation_data.shape}\")"
   ]
  },
  {
   "cell_type": "code",
   "execution_count": null,
   "id": "e5b8ae8c",
   "metadata": {},
   "outputs": [],
   "source": [
    "pairwise_correlation = combined_data.corr()\n",
    "\n",
    "# Set up the matplotlib figure\n",
    "plt.figure(figsize=(12, 8))\n",
    "\n",
    "# Create a seaborn heatmap\n",
    "sns.heatmap(pairwise_correlation, cmap=\"RdBu_r\", annot=False, fmt=\".2f\", linewidths=.5)\n",
    "\n",
    "# Set plot title\n",
    "plt.title(\"Pairwise Correlation Heatmap\")\n"
   ]
  },
  {
   "cell_type": "code",
   "execution_count": null,
   "id": "1bcab845",
   "metadata": {},
   "outputs": [],
   "source": []
  }
 ],
 "metadata": {
  "kernelspec": {
   "display_name": "Python 3 (ipykernel)",
   "language": "python",
   "name": "python3"
  },
  "language_info": {
   "codemirror_mode": {
    "name": "ipython",
    "version": 3
   },
   "file_extension": ".py",
   "mimetype": "text/x-python",
   "name": "python",
   "nbconvert_exporter": "python",
   "pygments_lexer": "ipython3",
   "version": "3.9.17"
  }
 },
 "nbformat": 4,
 "nbformat_minor": 5
}
