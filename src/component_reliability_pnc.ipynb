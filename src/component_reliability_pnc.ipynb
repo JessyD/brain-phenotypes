{
 "cells": [
  {
   "cell_type": "code",
   "execution_count": null,
   "id": "aab3179e-be7d-4849-bd0a-0798419835a4",
   "metadata": {},
   "outputs": [],
   "source": [
    "from pathlib import Path\n",
    "import numpy as np\n",
    "from matplotlib import pyplot as plt\n",
    "import seaborn as sns\n",
    "from sklearn import datasets\n",
    "from sklearn.decomposition import TruncatedSVD\n",
    "from sklearn.linear_model import LinearRegression\n",
    "from sklearn.experimental import enable_iterative_imputer\n",
    "from sklearn.impute import IterativeImputer, SimpleImputer\n",
    "import pandas as pd\n",
    "import pickle\n",
    "from scipy.spatial.distance import pdist, cdist\n",
    "from scipy.spatial import procrustes\n",
    "from scipy.linalg import orthogonal_procrustes\n",
    "from scipy.linalg import svd\n",
    "%matplotlib inline"
   ]
  },
  {
   "cell_type": "code",
   "execution_count": null,
   "id": "a66ffe6a-5860-4b52-a915-a32d9960ff1b",
   "metadata": {},
   "outputs": [],
   "source": [
    "def stable_component_marriage(Vm, Vw):\n",
    "    n = len(Vm)\n",
    "\n",
    "    Pm, Pw = _calc_prefs(Vm, Vw)\n",
    "    # lists are acutally a little faster than arrays here\n",
    "    w_partner = [-1 for ix in range(n)]\n",
    "    m_free = [True for ix in range(n)]\n",
    "    \n",
    "    free_count = n\n",
    "    \n",
    "    while free_count > 0:\n",
    "        m=0\n",
    "        for m, mf in enumerate(m_free):\n",
    "            if mf:\n",
    "                break\n",
    "    \n",
    "        i = 0\n",
    "        while i < n and m_free[m]:\n",
    "            w = Pm[m, i]\n",
    "            m1 = w_partner[w]\n",
    "            if (m1 == -1):\n",
    "                w_partner[w] = m\n",
    "                m_free[m] = False\n",
    "                free_count -= 1\n",
    "            elif Pw[w, m] < Pw[w, m1]:\n",
    "                w_partner[w] = m\n",
    "                m_free[m] = False\n",
    "                m_free[m1] = True\n",
    "            i += 1\n",
    "    return w_partner\n",
    "    \n",
    "def _calc_prefs(Vm, Vw):\n",
    "    corrs = np.abs(1 - cdist(Vm, Vw, metric='correlation'))\n",
    "    Pm = np.argsort(-corrs)\n",
    "    Pw = np.argsort(-corrs.T)\n",
    "    return Pm, Pw\n",
    "\n",
    "def clean_phenotype_data(dat, cols, age_sex_regress=True, impute=True, censor=True):\n",
    "    dat = dat.copy()\n",
    "    # regress out age and sex\n",
    "    # create age and sex regressors\n",
    "    dat['age_z'] = (dat.age_at_scan - dat.age_at_scan.mean()) / dat.age_at_scan.std(ddof=1)\n",
    "    dat['age_z_2'] = dat.age_z ** 2\n",
    "    dat['age_z_by_sex'] = dat.age_z * dat.sex_at_birth\n",
    "    dat['age_z_2_by_sex'] = dat.age_z_2 * dat.sex_at_birth\n",
    "    for col in cols:\n",
    "        dat[col] = dat[col].astype(float)\n",
    "        if age_sex_regress:\n",
    "            lreg = LinearRegression()\n",
    "            X = dat.loc[dat[col].notnull(), ['age_z', 'sex_at_birth', 'age_z_2', 'age_z_by_sex', 'age_z_2_by_sex']]\n",
    "            _ = lreg.fit(X, dat.loc[dat[col].notnull(), [col]])\n",
    "            dat[col] = dat.loc[dat[col].notnull(), [col]] - lreg.predict(X)\n",
    "    # z transform\n",
    "    dat.loc[:, cols] = dat.loc[:, cols].apply(lambda x: (x - x.mean())/x.std(), axis=0)\n",
    "\n",
    "    if censor:\n",
    "        # censor\n",
    "        dat[np.abs(dat.loc[:, cols]) > 3] = np.nan\n",
    "\n",
    "    if impute:\n",
    "        # impute\n",
    "        imputer = IterativeImputer(random_state=seed, max_iter=1000, skip_complete=True)\n",
    "        dat.loc[:, cols] = imputer.fit_transform(dat.loc[:, cols])\n",
    "    else:\n",
    "        clean_participants = dat.loc[dat.loc[:, cols].isnull().sum(1)== 0, 'participant'].values\n",
    "        dat = dat.loc[dat.participant.isin(clean_participants)].copy()\n",
    "    # re-z-score\n",
    "    dat.loc[:, cols] = dat.loc[:, cols].apply(lambda x: (x - x.mean())/x.std(), axis=0)\n",
    "    return dat\n",
    "\n",
    "# def sm_corr(Vm, Vw):\n",
    "#     w_partner = stable_component_marriage(Vm, Vw)\n",
    "#     return (1-cdist(V[0], V[1], metric='correlation'))\n",
    "    "
   ]
  },
  {
   "cell_type": "code",
   "execution_count": null,
   "id": "8643fb83-4f1f-4f10-97e0-89afb66c621c",
   "metadata": {},
   "outputs": [],
   "source": [
    "seed = 13231123\n",
    "rng = np.random.default_rng(seed)"
   ]
  },
  {
   "cell_type": "code",
   "execution_count": null,
   "id": "076358e4-ff71-4f63-aad2-5e28c7ecf4af",
   "metadata": {},
   "outputs": [],
   "source": [
    "data_dir = Path('../data')"
   ]
  },
  {
   "cell_type": "code",
   "execution_count": null,
   "id": "4bd10a44-6c24-43cf-beca-3528021961ca",
   "metadata": {},
   "outputs": [],
   "source": [
    "pnc_pkl = data_dir / 'latent_reliability_PNC.pickle'\n",
    "pnc_dat = pickle.loads(pnc_pkl.read_bytes())"
   ]
  },
  {
   "cell_type": "code",
   "execution_count": null,
   "id": "32422f4d-9d3e-4c3c-a818-19367928b7a8",
   "metadata": {},
   "outputs": [],
   "source": [
    "for ix, vals in pnc_dat.items():\n",
    "    break"
   ]
  },
  {
   "cell_type": "markdown",
   "id": "81a199a9-28cc-4918-a692-0c524bfcca5c",
   "metadata": {},
   "source": [
    "# Create new phenotypic dataset"
   ]
  },
  {
   "cell_type": "code",
   "execution_count": null,
   "id": "051bc0c5-be75-43a4-b754-045100a736af",
   "metadata": {},
   "outputs": [],
   "source": [
    "pnc_dir = data_dir / 'pnc'\n",
    "test_dat = pd.read_csv(pnc_dir / 'phenotype_measures_testing.txt')\n",
    "train_dat = pd.read_csv(pnc_dir / 'phenotype_measures_training.txt')\n",
    "all_dat = pd.concat([test_dat, train_dat]).reset_index(drop=True)"
   ]
  },
  {
   "cell_type": "code",
   "execution_count": null,
   "id": "b9280098-5313-431c-a598-afb8c5bcfc5e",
   "metadata": {},
   "outputs": [],
   "source": [
    "phenotype_columns = pnc_dat[0]['before_svd_split1'].columns"
   ]
  },
  {
   "cell_type": "code",
   "execution_count": null,
   "id": "3c65a0e6-8303-419f-8f86-be1df3fe26ed",
   "metadata": {},
   "outputs": [],
   "source": [
    "# make sure there isn't any all nan participant\n",
    "assert (all_dat.loc[:, phenotype_columns].isnull().mean()!=1).all()"
   ]
  },
  {
   "cell_type": "code",
   "execution_count": null,
   "id": "16fadb81-7ceb-43cb-bfc5-d7cebd1a331f",
   "metadata": {},
   "outputs": [],
   "source": [
    "all_pheno_dat = all_dat.loc[:, ['participant', 'family_ID', 'sex_at_birth', 'age_at_scan'] + list(phenotype_columns)]\n",
    "all_pheno_dat['sex_at_birth'] = all_pheno_dat.sex_at_birth - 1"
   ]
  },
  {
   "cell_type": "code",
   "execution_count": null,
   "id": "82657621-938b-4cb1-84a4-76af12c6ddcb",
   "metadata": {},
   "outputs": [],
   "source": [
    "n_splits = 1000\n",
    "split_participants = []\n",
    "split_stats = []\n",
    "for spix in range(n_splits):\n",
    "    fids1 = all_pheno_dat.groupby('family_ID').participant.first().reset_index().family_ID.sample(frac=0.5, replace=False).values\n",
    "    pids1 = all_pheno_dat.loc[all_pheno_dat.family_ID.isin(fids1), 'participant'].values\n",
    "    pids2 = all_pheno_dat.loc[~all_pheno_dat.family_ID.isin(fids1), 'participant'].values\n",
    "    split_participants.append((pids1, pids2))\n",
    "    row = dict(\n",
    "        split=spix,\n",
    "        n_1=all_pheno_dat.family_ID.isin(fids1).sum(),\n",
    "        n_fam_1=len(fids1),\n",
    "        n_male_1=(all_pheno_dat.loc[all_pheno_dat.family_ID.isin(fids1), 'sex_at_birth']).sum(),\n",
    "        frac_male_1=(all_pheno_dat.loc[all_pheno_dat.family_ID.isin(fids1), 'sex_at_birth']).mean(),\n",
    "        mean_age_1=all_pheno_dat.loc[all_pheno_dat.family_ID.isin(fids1), 'age_at_scan'].mean(),\n",
    "        std_age_1=all_pheno_dat.loc[all_pheno_dat.family_ID.isin(fids1), 'age_at_scan'].std(),\n",
    "\n",
    "        n_2 = (~all_pheno_dat.family_ID.isin(fids1)).sum(),\n",
    "        n_fam_2=all_pheno_dat.loc[~all_pheno_dat.family_ID.isin(fids1), 'family_ID'].nunique(),\n",
    "        n_male_2=(all_pheno_dat.loc[~all_pheno_dat.family_ID.isin(fids1), 'sex_at_birth']).sum(),\n",
    "        frac_male_2=(all_pheno_dat.loc[~all_pheno_dat.family_ID.isin(fids1), 'sex_at_birth']).mean(),\n",
    "        mean_age_2=all_pheno_dat.loc[~all_pheno_dat.family_ID.isin(fids1), 'age_at_scan'].mean(),\n",
    "        std_age_2=all_pheno_dat.loc[~all_pheno_dat.family_ID.isin(fids1), 'age_at_scan'].std()\n",
    "    )\n",
    "    split_stats.append(row)\n",
    "split_stats=pd.DataFrame(split_stats)"
   ]
  },
  {
   "cell_type": "code",
   "execution_count": null,
   "id": "af9d4edc-a011-43c5-8b60-2516d4801654",
   "metadata": {},
   "outputs": [],
   "source": [
    "split_stats.describe()"
   ]
  },
  {
   "cell_type": "markdown",
   "id": "62191514-867a-4f39-8fb6-08c6b99d3b4b",
   "metadata": {},
   "source": [
    "# See what we can do with split halves"
   ]
  },
  {
   "cell_type": "code",
   "execution_count": null,
   "id": "7f573f76-887d-43b7-aae1-a25953bcc140",
   "metadata": {},
   "outputs": [],
   "source": [
    "phenotypes = clean_phenotype_data(all_dat, phenotype_columns).loc[:, phenotype_columns]\n"
   ]
  },
  {
   "cell_type": "code",
   "execution_count": null,
   "id": "006854cd-a7ce-4581-a36c-5a144c47e47c",
   "metadata": {},
   "outputs": [],
   "source": [
    "V1s = []\n",
    "V2s = []\n",
    "pct_var1s = []\n",
    "pct_var2s = []\n",
    "match_corrs = []\n",
    "sp1dats = []\n",
    "sp2dats = []\n",
    "age_sex_regress = True\n",
    "\n",
    "oU, os, oV = svd(phenotypes, full_matrices=False)\n",
    "\n",
    "for iiii, (pids1, pids2) in enumerate(split_participants):\n",
    "    print(iiii, end=',')\n",
    "    sp1dat = clean_phenotype_data(all_dat.loc[all_dat.participant.isin(pids1)].copy(),\n",
    "                                  phenotype_columns,\n",
    "                                  age_sex_regress=age_sex_regress).loc[:, phenotype_columns]\n",
    "    sp2dat = clean_phenotype_data(all_dat.loc[all_dat.participant.isin(pids2)].copy(),\n",
    "                                  phenotype_columns,\n",
    "                                  age_sex_regress=age_sex_regress).loc[:, phenotype_columns]\n",
    "    sp1dats.append(sp1dat)\n",
    "    sp2dats.append(sp2dat)\n",
    "    U1, s1, V1 = svd(sp1dat, full_matrices=False)\n",
    "    U2, s2, V2 = svd(sp2dat, full_matrices=False)\n",
    "\n",
    "    component_mapping1 = stable_component_marriage(V1, oV)\n",
    "    mapped_V1 = V1[component_mapping1]\n",
    "    V1_signs = np.sign([np.corrcoef(oVc, mVc)[0,1] for oVc, mVc in zip(oV, mapped_V1)]).reshape(-1,1)\n",
    "    mapped_V1 *= V1_signs\n",
    "    component_mapping2 = stable_component_marriage(V2, oV)\n",
    "    mapped_V2 = V2[component_mapping2]\n",
    "    V2_signs = np.sign([np.corrcoef(oVc, mVc)[0,1] for oVc, mVc in zip(oV, mapped_V2)]).reshape(-1,1)\n",
    "    mapped_V2 *= V2_signs\n",
    "    \n",
    "    mc = [np.corrcoef(oVc, mVc)[0,1] for oVc, mVc in zip(mapped_V1, mapped_V2)]\n",
    "    match_corrs.append(mc)\n",
    "    V1s.append(mapped_V1)\n",
    "    V2s.append(mapped_V2)\n",
    "    \n",
    "    mapped_s1 = s1[component_mapping1]\n",
    "    pct_var1 = s1 **2 / (s1 **2).sum()\n",
    "    pct_var1s.append(pct_var1)\n",
    "    mapped_s2 = s2[component_mapping2]\n",
    "    pct_var2 = mapped_s2 **2 / (mapped_s2 **2).sum()\n",
    "    pct_var2s.append(pct_var2)"
   ]
  },
  {
   "cell_type": "code",
   "execution_count": null,
   "id": "f16064a9-b5c1-4979-819c-5220e892ef20",
   "metadata": {},
   "outputs": [],
   "source": [
    "alldats = zip(V1s, V2s, pct_var1s, pct_var2s, match_corrs, sp1dats, sp2dats, split_participants)"
   ]
  },
  {
   "cell_type": "code",
   "execution_count": null,
   "id": "f76b66aa-d4bc-4c98-88da-a27d3f4379a7",
   "metadata": {},
   "outputs": [],
   "source": [
    "alldat_lod = []\n",
    "for adix, (V1, V2, pct_var1, pct_var2, match_corr, sp1dat, sp2dat, (pids1, pids2)) in enumerate(alldats):\n",
    "    alldat_lod.append(\n",
    "        dict(\n",
    "            V1=V1,\n",
    "            V2=V2,\n",
    "            pct_var1=pct_var1,\n",
    "            pct_var2=pct_var2,\n",
    "            match_corr=match_corr,\n",
    "            sp1dat=sp1dat,\n",
    "            sp2dat=sp2dat,\n",
    "            pids1=pids1, \n",
    "            pids2=pids2\n",
    "        )\n",
    "    )"
   ]
  },
  {
   "cell_type": "code",
   "execution_count": null,
   "id": "7c8f348a-4a78-4cff-9e56-6834c00893ac",
   "metadata": {},
   "outputs": [],
   "source": [
    "alldat_file = pnc_dir / 'alldat_arczi.pkl'\n",
    "alldat_file.write_bytes(pickle.dumps(alldat_lod))"
   ]
  },
  {
   "cell_type": "code",
   "execution_count": null,
   "id": "d1d54117-04a0-4616-90da-420f6e702223",
   "metadata": {},
   "outputs": [],
   "source": [
    "tad = pickle.loads(alldat_file.read_bytes())"
   ]
  },
  {
   "cell_type": "code",
   "execution_count": null,
   "id": "2180135f-012f-4407-a72d-151fb9a5252d",
   "metadata": {},
   "outputs": [],
   "source": [
    "np.all(tad[0]['V1'] == V1s[0])"
   ]
  },
  {
   "cell_type": "code",
   "execution_count": null,
   "id": "6625b09a-8cf2-467f-b212-c20921da8ecd",
   "metadata": {},
   "outputs": [],
   "source": [
    "spdats = list(zip(sp1dats, sp2dats))\n"
   ]
  },
  {
   "cell_type": "code",
   "execution_count": null,
   "id": "a94c7aa4-4bfa-471a-842a-7436c4410d93",
   "metadata": {},
   "outputs": [],
   "source": [
    "spdat_file = pnc_dir / 'phenotype_split_arczi.pkl'\n",
    "spdat_file.write_bytes(pickle.dumps(spdats))\n"
   ]
  },
  {
   "cell_type": "code",
   "execution_count": null,
   "id": "2f349f5d-43ad-4e51-a1f0-270a7399345a",
   "metadata": {},
   "outputs": [],
   "source": [
    "sns.heatmap((1 - cdist(V1s[0], V2s[1], metric='correlation')), vmin=-1, vmax=1, cmap='RdBu')"
   ]
  },
  {
   "cell_type": "code",
   "execution_count": null,
   "id": "1342b9f1-0f92-4d63-95d6-3ae7a5198366",
   "metadata": {
    "scrolled": true
   },
   "outputs": [],
   "source": [
    "mean_match_corr = np.tanh(np.mean(np.abs(np.arctanh(match_corrs)), 0))\n",
    "mean_match_r2 = mean_match_corr ** 2\n",
    "lci_match_corr = np.percentile(np.abs(match_corrs), 2.5, axis=0)\n",
    "lci_match_r2 = lci_match_corr ** 2\n",
    "uci_match_corr= np.percentile(np.abs(match_corrs), 97.5, axis=0)\n",
    "uci_match_r2 = uci_match_corr ** 2"
   ]
  },
  {
   "cell_type": "code",
   "execution_count": null,
   "id": "86ca6169-5893-4259-858b-287dcb08240d",
   "metadata": {},
   "outputs": [],
   "source": [
    "fig, ax = plt.subplots(1)\n",
    "ax.fill_between(range(len(mean_match_corr)), lci_match_corr, uci_match_corr, alpha = 0.5)\n",
    "ax.plot(mean_match_corr)\n",
    "ax.set_ylim(0,1)\n",
    "ax.set_ylabel('Inter-split correlation')\n",
    "ax.set_xlabel('Latent number')"
   ]
  },
  {
   "cell_type": "code",
   "execution_count": null,
   "id": "f6794402-5582-493c-88fb-de62dd77c058",
   "metadata": {},
   "outputs": [],
   "source": [
    "fig, ax = plt.subplots(1)\n",
    "ax.fill_between(range(len(mean_match_r2)), lci_match_r2, uci_match_r2, alpha = 0.5)\n",
    "ax.plot(mean_match_r2)\n",
    "ax.set_ylim(0,1)\n",
    "ax.set_ylabel('Inter-split $r^2$')\n",
    "ax.set_xlabel('Latent number')"
   ]
  },
  {
   "cell_type": "code",
   "execution_count": null,
   "id": "4c79476a-171f-4470-aaa2-50f48e60be8f",
   "metadata": {},
   "outputs": [],
   "source": [
    "pct_vars = np.vstack([pct_var1s, pct_var2s])\n",
    "cum_vars = np.cumsum(pct_vars, axis=1)"
   ]
  },
  {
   "cell_type": "code",
   "execution_count": null,
   "id": "0a0552b0-866b-410e-a807-96da6619a85e",
   "metadata": {},
   "outputs": [],
   "source": [
    "mean_pct_var = pct_vars.mean(0)\n",
    "lci_pct_var = np.quantile(pct_vars, 0.025, axis=0)\n",
    "uci_pct_var = np.quantile(pct_vars, 0.975, axis=0)\n",
    "\n",
    "mean_cum_var = cum_vars.mean(0)\n",
    "lci_cum_var = np.quantile(cum_vars, 0.025, axis=0)\n",
    "uci_cum_var = np.quantile(cum_vars, 0.975, axis=0)"
   ]
  },
  {
   "cell_type": "code",
   "execution_count": null,
   "id": "1f57dbf2-7b43-47e1-ba8b-5d7f404d948f",
   "metadata": {},
   "outputs": [],
   "source": [
    "fig, ax = plt.subplots(1)\n",
    "ax.fill_between(np.arange(len(lci_pct_var)), lci_pct_var, uci_pct_var, alpha = 0.5)\n",
    "ax.plot(mean_pct_var)\n",
    "\n",
    "ax.fill_between(np.arange(len(lci_cum_var)), lci_cum_var, uci_cum_var, alpha = 0.5)\n",
    "ax.plot(mean_cum_var)\n",
    "\n",
    "ymin, ymax = ax.get_ylim()\n",
    "xmin, xmax = ax.get_xlim()\n",
    "ax.hlines(0.95, xmin, (lci_cum_var > 0.95).nonzero()[0].min()-0.5, ls='--', color='black')\n",
    "ax.vlines((lci_cum_var > 0.95).nonzero()[0].min()-0.5, ymin, 0.95, ls='--', color='black')\n",
    "ax.text"
   ]
  },
  {
   "cell_type": "code",
   "execution_count": null,
   "id": "83c62bae-e741-492d-8a84-73f2ed4ebffa",
   "metadata": {},
   "outputs": [],
   "source": [
    "\n",
    "age_sex_regress = True\n",
    "\n",
    "oU, os, oV = svd(phenotypes, full_matrices=False)\n",
    "\n",
    "for iiii, (pids1, pids2) in enumerate(split_participants):"
   ]
  },
  {
   "cell_type": "code",
   "execution_count": null,
   "id": "a2bd1554-5cf1-4a3b-9060-e5642786e487",
   "metadata": {},
   "outputs": [],
   "source": [
    "prepro_options = [\n",
    "    dict(age_sex_regress=False, impute=False, censor=False),\n",
    "    dict(age_sex_regress=False, impute=True, censor=True),\n",
    "    dict(age_sex_regress=True, impute=False, censor=False),\n",
    "]"
   ]
  },
  {
   "cell_type": "code",
   "execution_count": null,
   "id": "194bc705-c85a-4ab9-b90b-f8c49979a5a5",
   "metadata": {},
   "outputs": [],
   "source": [
    "\n",
    "\n",
    "# if impute:\n",
    "#     # impute\n",
    "#     imputer = IterativeImputer(random_state=seed, max_iter=1000, skip_complete=True)\n",
    "#     dat.loc[:, cols] = imputer.fit_transform(dat.loc[:, cols])\n",
    "# else:\n",
    "#     clean_participants = dat.loc[dat.loc[:, cols].isnull().sum(1)== 0, 'participant'].values\n",
    "#     dat = dat.loc[dat.participant.isin(clean_participants)].copy()\n",
    "# #    return dat"
   ]
  },
  {
   "cell_type": "code",
   "execution_count": null,
   "id": "b1d107c2-2ff6-474f-84ad-d5b218ed6cc1",
   "metadata": {},
   "outputs": [],
   "source": [
    "hcp_categories = [\n",
    "    ('ASR_Aggr_T','asr', 'adj'),\n",
    "    ('ASR_Anxd_Pct','asr', 'adj'),\n",
    "    ('ASR_Attn_T','asr', 'adj'),\n",
    "    ('ASR_Extn_T','asr', 'adj'),\n",
    "    ('ASR_Intn_T','asr', 'adj'),\n",
    "    ('ASR_Intr_T','asr', 'adj'),\n",
    "    ('ASR_Rule_T','asr', 'adj'),\n",
    "    ('ASR_Soma_T','asr', 'adj'),\n",
    "    ('ASR_TAO_Sum','asr', 'unadj'),\n",
    "    ('ASR_Thot_T','asr', 'adj'),\n",
    "    ('ASR_Totp_T','asr', 'adj'),\n",
    "    ('ASR_Witd_T','asr', 'adj'),\n",
    "    ('AngAffect_Unadj','emo', 'unadj'),\n",
    "    ('AngAggr_Unadj','emo', 'unadj'),\n",
    "    ('AngHostil_Unadj','emo', 'unadj'),\n",
    "    ('CardSort_AgeAdj','task', 'adj'),\n",
    "    ('CardSort_Unadj','task', 'unadj'),\n",
    "    ('CogCrystalComp_AgeAdj','int', 'adj'),\n",
    "    ('CogEarlyComp_AgeAdj','int', 'adj'),\n",
    "    ('CogFluidComp_AgeAdj','int', 'adj'),\n",
    "    ('CogTotalComp_AgeAdj','int', 'adj'),\n",
    "    ('DDisc_AUC_200','task', 'unadj'),\n",
    "    ('DDisc_AUC_40K','task', 'unadj'),\n",
    "    ('Dexterity_Unadj','motor', 'unadj'),\n",
    "    ('ER40ANG','penn_ER', 'unadj'),\n",
    "    ('ER40FEAR','penn_ER', 'unadj'),\n",
    "    ('ER40NOE','penn_ER', 'unadj'),\n",
    "    ('ER40SAD','penn_ER', 'unadj'),\n",
    "    ('ER40_CR','penn_ER', 'unadj'),\n",
    "    ('ER40_CRT','penn_ER', 'unadj'),\n",
    "    ('EmotSupp_Unadj','emo', 'unadj'),\n",
    "    ('Emotion_Task_Face_Acc','task', 'unadj'),\n",
    "    ('Endurance_Unadj','motor', 'unadj'),\n",
    "    ('FearAffect_Unadj','emo', 'unadj'),\n",
    "    ('FearSomat_Unadj','emo', 'unadj'),\n",
    "    ('Flanker_AgeAdj','task', 'adj'),\n",
    "    ('Flanker_Unadj','task', 'unadj'),\n",
    "    ('Friendship_Unadj','emo', 'unadj'),\n",
    "    ('GaitSpeed_Comp','motor', 'unadj'),\n",
    "    ('Handedness','emo', 'unadj'),\n",
    "    ('IWRD_TOT','task', 'unadj'),\n",
    "    ('InstruSupp_Unadj','emo', 'unadj'),\n",
    "    ('Language_Task_Math_Avg_Difficulty_Level','language', 'unadj'),\n",
    "    ('Language_Task_Story_Avg_Difficulty_Level','language', 'unadj'),\n",
    "    ('LifeSatisf_Unadj','emo', 'unadj'),\n",
    "    ('ListSort_AgeAdj','task', 'adj'),\n",
    "    ('ListSort_Unadj','task', 'unadj'),\n",
    "    ('Loneliness_Unadj','emo', 'unadj'),\n",
    "    ('MMSE_Score','alertness', 'uadj'),\n",
    "    ('Mars_Final','sensory', 'uadj'),\n",
    "    ('MeanPurp_Unadj','emo', 'unadj'),\n",
    "    ('NEOFAC_A','ffi', 'unadj'),\n",
    "    ('NEOFAC_C','ffi', 'unadj'),\n",
    "    ('NEOFAC_E','ffi', 'unadj'),\n",
    "    ('NEOFAC_N','ffi', 'unadj'),\n",
    "    ('NEOFAC_O','ffi', 'unadj'),\n",
    "    ('Odor_Unadj','sensory', 'unadj'),\n",
    "    ('PMAT24_A_CR','task', 'unadj'),\n",
    "    ('PSQI_Score','alertness', 'unadj'),\n",
    "    ('PainInterf_Tscore','emo', 'unadj'),\n",
    "    ('PercHostil_Unadj','emo', 'unadj'),\n",
    "    ('PercReject_Unadj','emo', 'unadj'),\n",
    "    ('PercStress_Unadj','emo', 'unadj'),\n",
    "    ('PicSeq_AgeAdj','task', 'adj'),\n",
    "    ('PicSeq_Unadj','task', 'unadj'),\n",
    "    ('PicVocab_AgeAdj','language', 'adj'),\n",
    "    ('PicVocab_Unadj','language', 'unadj'),\n",
    "    ('PosAffect_Unadj','emo', 'unadj'),\n",
    "    ('ProcSpeed_AgeAdj','task', 'adj'),\n",
    "    ('ProcSpeed_Unadj','task', 'unadj'),\n",
    "    ('ReadEng_AgeAdj','language', 'adj'),\n",
    "    ('ReadEng_Unadj','language', 'unadj'),\n",
    "    ('Relational_Task_Acc','task', 'unadj'),\n",
    "    ('SCPT_SEN','task', 'unadj'),\n",
    "    ('SCPT_SPEC','task', 'unadj'),\n",
    "    ('Sadness_Unadj','emo', 'unadj'),\n",
    "    ('SelfEff_Unadj','emo', 'unadj'),\n",
    "    ('Social_Task_Perc_Random','task', 'unadj'),\n",
    "    ('Social_Task_Perc_TOM','task', 'unadj'),\n",
    "    ('Strength_Unadj','motor', 'unadj'),\n",
    "    ('Taste_Unadj','sensory', 'unadj'),\n",
    "    ('VSPLOT_TC','task', 'unadj'),\n",
    "    ('WM_Task_Acc','task', 'unadj'),\n",
    "]\n",
    "hcp_categories = pd.DataFrame(hcp_categories, columns=['name', 'category', 'adj'])"
   ]
  },
  {
   "cell_type": "code",
   "execution_count": null,
   "id": "deea23f0-e3a6-4fd0-9008-ecdb31b7cec7",
   "metadata": {},
   "outputs": [],
   "source": [
    "hcp_categories.groupby(\"category\").count()"
   ]
  },
  {
   "cell_type": "code",
   "execution_count": null,
   "id": "7f704719-2dca-48af-923e-d60b82aacf43",
   "metadata": {},
   "outputs": [],
   "source": [
    "emo_cats = hcp_categories.query(\"category == 'emo'\").name.values\n",
    "task_cats = hcp_categories.query(\"category == 'task'\").name.values\n",
    "sorted_cats = hcp_categories.sort_values(['adj', 'category']).name.values\n",
    "asr_cats = hcp_categories.query(\"category == 'asr'\").name.values\n",
    "ffi_cats = hcp_categories.query(\"category == 'ffi'\").name.values\n",
    "motor_cats = hcp_categories.query(\"category == 'motor'\").name.values\n",
    "lang_cats = hcp_categories.query(\"category == 'language'\").name.values"
   ]
  },
  {
   "cell_type": "code",
   "execution_count": null,
   "id": "352a8265-83ef-4531-820f-c6abf3597433",
   "metadata": {},
   "outputs": [],
   "source": [
    "ppos = prepro_options[0]\n",
    "use_cols = lang_cats\n",
    "\n",
    "ppo_phenotypes = clean_phenotype_data(all_dat,\n",
    "                                      hcp_phenotype_columns,\n",
    "                                      **ppos,\n",
    "                                     ).loc[:, use_cols]\n",
    "oU, os, oV = svd(ppo_phenotypes, full_matrices=False)\n",
    "\n",
    "for iiii, (pids1, pids2) in enumerate(split_participants):\n",
    "    print(iiii, end=',')\n",
    "    sp1dat = clean_phenotype_data(all_dat.loc[all_dat.participant.isin(pids1)].copy(),\n",
    "                                  use_cols,\n",
    "                                  **ppos).loc[:, use_cols]\n",
    "    sp2dat = clean_phenotype_data(all_dat.loc[all_dat.participant.isin(pids2)].copy(),\n",
    "                                  use_cols,\n",
    "                                  **ppos).loc[:, use_cols]\n",
    "\n",
    "    U1, s1, V1 = svd(sp1dat, full_matrices=False)\n",
    "    U2, s2, V2 = svd(sp2dat, full_matrices=False)\n",
    "\n",
    "    component_mapping1 = stable_component_marriage(V1, oV)\n",
    "    mapped_V1 = V1[component_mapping1]\n",
    "    V1_signs = np.sign([np.corrcoef(oVc, mVc)[0,1] for oVc, mVc in zip(oV, mapped_V1)]).reshape(-1,1)\n",
    "    mapped_V1 *= V1_signs\n",
    "    component_mapping2 = stable_component_marriage(V2, oV)\n",
    "    mapped_V2 = V2[component_mapping2]\n",
    "    V2_signs = np.sign([np.corrcoef(oVc, mVc)[0,1] for oVc, mVc in zip(oV, mapped_V2)]).reshape(-1,1)\n",
    "    mapped_V2 *= V2_signs\n",
    "    \n",
    "    mc = [np.corrcoef(oVc, mVc)[0,1] for oVc, mVc in zip(mapped_V1, mapped_V2)]\n",
    "\n",
    "    \n",
    "    mapped_s1 = s1[component_mapping1]\n",
    "    pct_var1 = s1 **2 / (s1 **2).sum()\n",
    "    mapped_s2 = s2[component_mapping2]\n",
    "    pct_var2 = mapped_s2 **2 / (mapped_s2 **2).sum()\n",
    "\n",
    "    break"
   ]
  },
  {
   "cell_type": "code",
   "execution_count": null,
   "id": "9aa44587-1c98-4167-b0cf-8b50887edcbd",
   "metadata": {},
   "outputs": [],
   "source": [
    "sns.heatmap((1 - cdist(mapped_V1, mapped_V2, metric='correlation')), vmin=-1, vmax=1, cmap='RdBu')"
   ]
  },
  {
   "cell_type": "code",
   "execution_count": null,
   "id": "e12a1995-9e97-4953-b927-b6194d693ef6",
   "metadata": {},
   "outputs": [],
   "source": [
    "#task_mc = mc.copy()\n",
    "#sorted_mc = mc.copy()\n",
    "#emo_mc = mc.copy()\n",
    "lang_mc = mc.copy()\n",
    "fig, ax = plt.subplots(1)\n",
    "ax.plot(task_mc, label=\"task\")\n",
    "#ax.plot(sorted_mc)\n",
    "ax.plot(emo_mc, label=\"emotion\")\n",
    "ax.plot(asr_mc, label=\"asr\")\n",
    "ax.plot(ffi_mc, label=\"ffi\")\n",
    "ax.plot(motor_mc, label=\"motor\")\n",
    "ax.plot(lang_mc, label=\"language\")\n",
    "ax.legend()\n",
    "ax.set_ylabel(\"Inter-split loading correlation\")\n",
    "ax.set_xlabel(\"Component number\")"
   ]
  },
  {
   "cell_type": "code",
   "execution_count": null,
   "id": "db2ead31-4bdb-440f-9c8b-c16fdf637bed",
   "metadata": {},
   "outputs": [],
   "source": [
    "# emo\n",
    "plt.plot(mc)"
   ]
  },
  {
   "cell_type": "code",
   "execution_count": null,
   "id": "fda43b79-6253-447a-99ac-b456e00c8d7b",
   "metadata": {},
   "outputs": [],
   "source": [
    "mv1df = pd.DataFrame(data=mapped_V1, columns=hcp_phenotype_columns)\n",
    "mv1df['mc'] = mc\n",
    "mv1df['s'] = mapped_s1\n",
    "\n",
    "mv2df = pd.DataFrame(data=mapped_V2, columns=hcp_phenotype_columns)\n",
    "mv2df['mc'] = mc"
   ]
  },
  {
   "cell_type": "code",
   "execution_count": null,
   "id": "df0c4ffd-17e8-48e0-b17f-74e60b61c861",
   "metadata": {},
   "outputs": [],
   "source": [
    "mv1df.loc[mv1df.mc > 0.5].s ** 2 / (mv1df.loc[mv1df.mc > 0.5].s ** 2 ).sum() * 100"
   ]
  },
  {
   "cell_type": "code",
   "execution_count": null,
   "id": "3d84f8f8-04e0-4111-b027-c9b1bab13d01",
   "metadata": {},
   "outputs": [],
   "source": [
    "mapped_U1 = U1[:, component_mapping1]\n",
    "mapped_s1 = s1[component_mapping1]\n",
    "mapped_S1 = np.zeros((len(s1), len(s1)))\n",
    "np.fill_diagonal(mapped_S1, mapped_s1)"
   ]
  },
  {
   "cell_type": "code",
   "execution_count": null,
   "id": "362352cc-45a3-4b44-881d-d210811cbca0",
   "metadata": {},
   "outputs": [],
   "source": [
    "sns.heatmap(recon6)"
   ]
  },
  {
   "cell_type": "code",
   "execution_count": null,
   "id": "ee12cd49-05e1-4efc-8ffe-b28b236a0432",
   "metadata": {},
   "outputs": [],
   "source": [
    "s1[65]"
   ]
  },
  {
   "cell_type": "code",
   "execution_count": null,
   "id": "3c249cfb-741b-4fc1-b0ac-1bcb58e77a78",
   "metadata": {},
   "outputs": [],
   "source": [
    "pct_var1[65] * 100"
   ]
  },
  {
   "cell_type": "code",
   "execution_count": null,
   "id": "dee75df3-b4da-4c5e-90a9-ab5015969b10",
   "metadata": {},
   "outputs": [],
   "source": [
    "recon64 = mapped_U1[:, [64]] @ mapped_S1[[64], :][:, [64]] @ mapped_V1[[64], :]\n",
    "sns.heatmap(recon64)"
   ]
  },
  {
   "cell_type": "code",
   "execution_count": null,
   "id": "c156a7e9-36d4-4f0e-a9ff-c92d8b0827bd",
   "metadata": {},
   "outputs": [],
   "source": [
    "recona = mapped_U1[:, :64] @ mapped_S1[:64, :][:, :64] @ mapped_V1[:64, :]\n",
    "resida = sp1dat - recona\n",
    "reconb = mapped_U1[:, :65] @ mapped_S1[:65, :][:, :65] @ mapped_V1[:65, :]\n",
    "residb = sp1dat - reconb\n",
    "sns.heatmap(resida)"
   ]
  },
  {
   "cell_type": "code",
   "execution_count": null,
   "id": "ffa6b2ac-ae74-4bf2-a080-f727b4f88ef2",
   "metadata": {},
   "outputs": [],
   "source": [
    "sns.heatmap(residb)"
   ]
  },
  {
   "cell_type": "code",
   "execution_count": null,
   "id": "43968fc3-dc80-4b06-9c0d-2b3270bc6a06",
   "metadata": {},
   "outputs": [],
   "source": [
    "sns.heatmap(residb - resida)"
   ]
  },
  {
   "cell_type": "code",
   "execution_count": null,
   "id": "5f187d58-4014-43fd-9cc0-00a9497b092e",
   "metadata": {},
   "outputs": [],
   "source": [
    "mapped_U1[:, [0,1,2,3,6]].shape, mapped_S1[[0,1,2,3,6], :][:, [0,1,2,3,6]].shape, mapped_V1[[0,1,2,3,6], :].shape"
   ]
  },
  {
   "cell_type": "code",
   "execution_count": null,
   "id": "7f54d3f9-5088-47a8-bd36-8809fc5c496f",
   "metadata": {},
   "outputs": [],
   "source": [
    "mv1df.loc[mv1df.mc > 0.5]"
   ]
  },
  {
   "cell_type": "code",
   "execution_count": null,
   "id": "403b4ba7-d379-4baa-bd76-66207d424294",
   "metadata": {},
   "outputs": [],
   "source": [
    "plt.plot(mv1df.loc[67, hcp_phenotype_columns])\n",
    "plt.plot(mv2df.loc[67, hcp_phenotype_columns])"
   ]
  },
  {
   "cell_type": "code",
   "execution_count": null,
   "id": "5ab61825-1d23-4f0e-a3da-2794bd46f050",
   "metadata": {},
   "outputs": [],
   "source": [
    "sns.heatmap(mv1df.loc[mv1df.mc > 0.5], cmap='RdBu', vmin=-1, vmax=1)"
   ]
  },
  {
   "cell_type": "code",
   "execution_count": null,
   "id": "ac8459c8-33ef-4308-8f76-2255a1a01772",
   "metadata": {},
   "outputs": [],
   "source": [
    "sns.heatmap(mv2df.loc[mv1df.mc > 0.5], cmap='RdBu', vmin=-1, vmax=1)"
   ]
  },
  {
   "cell_type": "code",
   "execution_count": null,
   "id": "95147e73-ff57-4e3a-8006-e6996f53ebc5",
   "metadata": {},
   "outputs": [],
   "source": [
    "plt.plot(mc)"
   ]
  },
  {
   "cell_type": "code",
   "execution_count": null,
   "id": "58749594-2c3b-44ac-a904-1bf17424be6f",
   "metadata": {},
   "outputs": [],
   "source": [
    "plt.plot(mc)"
   ]
  },
  {
   "cell_type": "code",
   "execution_count": null,
   "id": "b1d44f0d-1d37-4a45-bb04-ffe8169c7290",
   "metadata": {},
   "outputs": [],
   "source": [
    "plt.plot(mc)"
   ]
  },
  {
   "cell_type": "code",
   "execution_count": null,
   "id": "368da53c-bcd6-4e1c-844d-741f7fb12f9a",
   "metadata": {},
   "outputs": [],
   "source": [
    "(lci_cum_var > 0.95).nonzero()[0].min()"
   ]
  },
  {
   "cell_type": "code",
   "execution_count": null,
   "id": "ec8d7f88-5f9c-406c-89cd-41b5c2f6a2b2",
   "metadata": {},
   "outputs": [],
   "source": [
    "mean_cum_var[34]"
   ]
  },
  {
   "cell_type": "code",
   "execution_count": null,
   "id": "bfbeb047-0f4e-4f86-b77f-08243babca94",
   "metadata": {},
   "outputs": [],
   "source": [
    "lci_cum_var[34]"
   ]
  },
  {
   "cell_type": "code",
   "execution_count": null,
   "id": "9b967504-b265-4e00-9cd7-6b69521fd19f",
   "metadata": {},
   "outputs": [],
   "source": [
    "V1s = []\n",
    "V2s = []\n",
    "pct_var1s = []\n",
    "pct_var2s = []\n",
    "match_corrs = []\n",
    "\n",
    "vals = hcp_dat[0]\n",
    "phenotypes = pd.concat([vals['before_svd_split1'], vals['before_svd_split2']])\n",
    "perm_phenotypes = phenotypes.apply(lambda x: x.sample(frac=1, replace=False).values)\n",
    "oU, os, oV = svd(perm_phenotypes, full_matrices=False)\n",
    "\n",
    "for ix, vals in hcp_dat.items():\n",
    "    sp1dat = perm_phenotypes.loc[perm_phenotypes.index.isin(vals['split_1_subject_id'].values)]\n",
    "    sp2dat = perm_phenotypes.loc[perm_phenotypes.index.isin(vals['split_2_subject_id'].values)]\n",
    "\n",
    "    # jV1 = vals['Vt_split1']\n",
    "    # jV2 = vals['Vt_split2']\n",
    "    U1, s1, V1 = svd(sp1dat, full_matrices=False)\n",
    "    U2, s2, V2 = svd(sp2dat, full_matrices=False)\n",
    "\n",
    "    component_mapping1 = stable_component_marriage(V1, oV)\n",
    "    mapped_V1 = V1[component_mapping1]\n",
    "    V1_signs = np.sign([np.corrcoef(oVc, mVc)[0,1] for oVc, mVc in zip(oV, mapped_V1)]).reshape(-1,1)\n",
    "    mapped_V1 *= V1_signs\n",
    "    component_mapping2 = stable_component_marriage(V2, oV)\n",
    "    mapped_V2 = V2[component_mapping2]\n",
    "    V2_signs = np.sign([np.corrcoef(oVc, mVc)[0,1] for oVc, mVc in zip(oV, mapped_V2)]).reshape(-1,1)\n",
    "    mapped_V2 *= V2_signs\n",
    "    \n",
    "    mc = [np.corrcoef(oVc, mVc)[0,1] for oVc, mVc in zip(mapped_V1, mapped_V2)]\n",
    "    match_corrs.append(mc)\n",
    "    V1s.append(mapped_V1)\n",
    "    V2s.append(mapped_V2)\n",
    "    \n",
    "    mapped_s1 = s1[component_mapping1]\n",
    "    pct_var1 = s1 **2 / (s1 **2).sum()\n",
    "    pct_var1s.append(pct_var1)\n",
    "    mapped_s2 = s2[component_mapping2]\n",
    "    pct_var2 = mapped_s2 **2 / (mapped_s2 **2).sum()\n",
    "    pct_var2s.append(pct_var2)"
   ]
  },
  {
   "cell_type": "code",
   "execution_count": null,
   "id": "3328e7f9-26e4-4ebb-a2bb-2aa1cfaaed58",
   "metadata": {},
   "outputs": [],
   "source": [
    "mean_match_corr = np.tanh(np.mean(np.abs(np.arctanh(match_corrs)), 0))\n",
    "mean_match_r2 = mean_match_corr ** 2\n",
    "lci_match_corr = np.percentile(np.abs(match_corrs), 2.5, axis=0)\n",
    "lci_match_r2 = lci_match_corr ** 2\n",
    "uci_match_corr= np.percentile(np.abs(match_corrs), 97.5, axis=0)\n",
    "uci_match_r2 = uci_match_corr ** 2"
   ]
  },
  {
   "cell_type": "code",
   "execution_count": null,
   "id": "31da68f6-9e49-459b-888e-5096127a2e3c",
   "metadata": {},
   "outputs": [],
   "source": [
    "for ix, vals in hcp_dat.items():\n",
    "    assert (vals['split_1_subject_id'] == vals['split_2_subject_id']).all()"
   ]
  },
  {
   "cell_type": "code",
   "execution_count": null,
   "id": "c2504cf9-c41f-4252-a45e-d4f4ba576da7",
   "metadata": {},
   "outputs": [],
   "source": [
    "vals['split_1_subject_id']"
   ]
  },
  {
   "cell_type": "code",
   "execution_count": null,
   "id": "3f669019-946f-4d9f-93be-75146dbcd071",
   "metadata": {
    "scrolled": true
   },
   "outputs": [],
   "source": [
    "vals['split_2_subject_id']"
   ]
  },
  {
   "cell_type": "code",
   "execution_count": null,
   "id": "c187ee8d-6f2a-4ca2-8a6b-0f080f4252dc",
   "metadata": {},
   "outputs": [],
   "source": [
    "fig, ax = plt.subplots(1)\n",
    "ax.fill_between(range(len(mean_match_corr)), lci_match_corr, uci_match_corr, alpha = 0.5)\n",
    "ax.plot(mean_match_corr)\n",
    "ax.set_ylim(0,1)\n",
    "ax.set_ylabel('Inter-split correlation')\n",
    "ax.set_xlabel('Latent number')"
   ]
  },
  {
   "cell_type": "code",
   "execution_count": null,
   "id": "035ebea6-4155-4fba-83d9-909a74eee98a",
   "metadata": {},
   "outputs": [],
   "source": [
    "pct_vars = np.vstack([pct_var1s, pct_var2s])"
   ]
  },
  {
   "cell_type": "code",
   "execution_count": null,
   "id": "3161291f-38d5-49a3-83da-0d165de00092",
   "metadata": {},
   "outputs": [],
   "source": [
    "pct_var_df = pd.DataFrame(pct_vars)"
   ]
  },
  {
   "cell_type": "code",
   "execution_count": null,
   "id": "89edec27-99d8-43d0-934f-bcc04190534a",
   "metadata": {},
   "outputs": [],
   "source": [
    "sns.barplot(data=pct_var_df, "
   ]
  },
  {
   "cell_type": "code",
   "execution_count": null,
   "id": "40408369-e3f5-4f87-9ad2-c2a460970fea",
   "metadata": {
    "scrolled": true
   },
   "outputs": [],
   "source": [
    "plt.plot(np.array(pct_vars).mean(0))\n"
   ]
  },
  {
   "cell_type": "code",
   "execution_count": null,
   "id": "cd806414-3769-4a76-9988-2b006bae5d87",
   "metadata": {},
   "outputs": [],
   "source": [
    "svder = TruncatedSVD(n_components=sp1dat.shape[-1])\n",
    "_  = svder.fit(sp1dat)\n",
    "svder.components_ == jV1"
   ]
  },
  {
   "cell_type": "code",
   "execution_count": null,
   "id": "a9671074-d2e2-4b46-93c6-e763029fd225",
   "metadata": {},
   "outputs": [],
   "source": [
    "sns.heatmap(svder.components_)"
   ]
  },
  {
   "cell_type": "code",
   "execution_count": null,
   "id": "268dff11-e004-4941-962f-16b8b9f61b01",
   "metadata": {},
   "outputs": [],
   "source": [
    "sns.heatmap(jV1)"
   ]
  },
  {
   "cell_type": "code",
   "execution_count": null,
   "id": "67e37417-9c45-43b1-b3b9-d8a2cbf89fa7",
   "metadata": {},
   "outputs": [],
   "source": [
    "sns.heatmap(V1)"
   ]
  },
  {
   "cell_type": "code",
   "execution_count": null,
   "id": "68622765-79e9-46d1-b2c9-b1f0d4f83c47",
   "metadata": {},
   "outputs": [],
   "source": [
    "sns.heatmap((1 - cdist(svder.components_, jV1, metric='correlation')), vmin=-1, vmax=1, cmap='RdBu')"
   ]
  },
  {
   "cell_type": "code",
   "execution_count": null,
   "id": "d1d08ba1-b574-418b-93f8-922c65f3c52b",
   "metadata": {},
   "outputs": [],
   "source": [
    "sns.heatmap((1 - cdist(V1, jV1, metric='correlation')), vmin=-1, vmax=1, cmap='RdBu')"
   ]
  },
  {
   "cell_type": "code",
   "execution_count": null,
   "id": "26feec1f-76b7-4a6c-b97d-2860d517eb22",
   "metadata": {},
   "outputs": [],
   "source": [
    "sns.heatmap((1 - cdist(V1, mapped_V2 * V_signs, metric='correlation')), vmin=-1, vmax=1, cmap='RdBu')"
   ]
  },
  {
   "cell_type": "code",
   "execution_count": null,
   "id": "7f621e86-6996-4a74-a127-d6d4cc233dd4",
   "metadata": {},
   "outputs": [],
   "source": [
    "U, s, V = svd(phenotypes, full_matrices=False)\n",
    "S = np.zeros((s.shape[0], s.shape[0]))\n",
    "np.fill_diagonal(S, s)"
   ]
  },
  {
   "cell_type": "code",
   "execution_count": null,
   "id": "21f7b272-d97f-45f8-944e-b4bb7234a697",
   "metadata": {},
   "outputs": [],
   "source": [
    "perm_phenotypes = phenotypes.apply(lambda x: x.sample(frac=1, replace=False).values)"
   ]
  },
  {
   "cell_type": "code",
   "execution_count": null,
   "id": "fa6c7993-9930-489c-bc80-9b3907220487",
   "metadata": {},
   "outputs": [],
   "source": [
    "perm_phenotypes = "
   ]
  },
  {
   "cell_type": "code",
   "execution_count": null,
   "id": "48fa5666-4c96-42f0-9783-d7e453d9ba79",
   "metadata": {},
   "outputs": [],
   "source": [
    "U, s, V = svd(phenotypes, full_matrices=False)\n",
    "S = np.zeros((s.shape[0], s.shape[0]))\n",
    "np.fill_diagonal(S, s)\n",
    "pU, ps, pV = svd(perm_phenotypes, full_matrices=False)\n",
    "pS = np.zeros((ps.shape[0], ps.shape[0]))\n",
    "np.fill_diagonal(pS, ps)\n",
    "\n",
    "\n",
    "# dropped_phenotypes = phenotypes.copy()\n",
    "# for var in dropped_phenotypes:\n",
    "#     varval = dropped_phenotypes[var]\n",
    "#     lr = LinearRegression(fit_intercept=False)\n",
    "#     _ = lr.fit(U[:, [cx]], varval)\n",
    "#     dropped_varval = varval - lr.predict(U[:, [cx]])\n",
    "#     dropped_phenotypes[var] = dropped_varval"
   ]
  },
  {
   "cell_type": "code",
   "execution_count": null,
   "id": "a1cc1eac-e69f-45d5-92fa-b9aa8b35b75a",
   "metadata": {},
   "outputs": [],
   "source": [
    "ps **2 / (ps **2).sum()"
   ]
  },
  {
   "cell_type": "code",
   "execution_count": null,
   "id": "21038871-aa84-465b-bbdc-c25443781641",
   "metadata": {},
   "outputs": [],
   "source": [
    "_, _, dropped_V = svd(dropped_phenotypes, full_matrices=False)\n"
   ]
  },
  {
   "cell_type": "code",
   "execution_count": null,
   "id": "35fd0d2d-ff42-4aff-9d27-4d6ca5dc7900",
   "metadata": {},
   "outputs": [],
   "source": [
    "only_S = np.zeros((s.shape[0], s.shape[0]))\n",
    "only_S[cx, cx] = s[cx]"
   ]
  },
  {
   "cell_type": "code",
   "execution_count": null,
   "id": "12dbbb35-50dd-4923-b17c-b9082537f1b0",
   "metadata": {},
   "outputs": [],
   "source": [
    "only_recon = U @ only_S @ V"
   ]
  },
  {
   "cell_type": "code",
   "execution_count": null,
   "id": "8ac4db90-240f-4b4a-a880-aacbd22915c5",
   "metadata": {},
   "outputs": [],
   "source": [
    "plt.plot(np.abs(V[cx]) / np.abs(V[cx]).max())"
   ]
  },
  {
   "cell_type": "code",
   "execution_count": null,
   "id": "676f27fc-0980-48bb-9136-4bc9b7a87f16",
   "metadata": {},
   "outputs": [],
   "source": [
    "sns.heatmap(only_recon, cmap='RdBu', vmin=-3, vmax=3)"
   ]
  },
  {
   "cell_type": "code",
   "execution_count": null,
   "id": "d1aba60c-bb15-4704-855e-b67b863afa87",
   "metadata": {},
   "outputs": [],
   "source": [
    "sns.heatmap(phenotypes, cmap='RdBu', vmin=-3, vmax=3)"
   ]
  },
  {
   "cell_type": "code",
   "execution_count": null,
   "id": "cab58786-95b2-4e9c-9c34-d875c2652919",
   "metadata": {},
   "outputs": [],
   "source": [
    "cx = 0 \n",
    "# recon without component\n",
    "dropped_V = V.copy()\n",
    "dropped_V[cx] = 0\n",
    "dropped_U = U.copy()\n",
    "dropped_U[:,cx] = 0\n",
    "dropped_S = S.copy()\n",
    "dropped_S[cx, cx] = 0\n",
    "dropped_recon = dropped_U @ dropped_S @ dropped_V\n",
    "noise = rng.normal(loc=0, scale=0.1, size=dropped_recon.shape)\n",
    "dropped_recon = dropped_recon + noise\n",
    "dd_U, dd_s, dd_V  = svd(dropped_recon, full_matrices=False)\n"
   ]
  },
  {
   "cell_type": "code",
   "execution_count": null,
   "id": "48a7c9c8-2105-4045-9e08-18808475d73f",
   "metadata": {},
   "outputs": [],
   "source": [
    "dropped_V = V.copy()\n",
    "dropped_V = np.vstack([dropped_V[:cx, :], dropped_V[(cx + 1):, :]])\n",
    "dropped_U = U.copy()\n",
    "dropped_U = np.hstack([dropped_U[:, :cx], dropped_U[:, (cx + 1):]])\n",
    "dropped_S = np.zeros([s.shape[0] - 1, s.shape[0] - 1])\n",
    "dropped_s = np.hstack([s[:cx], s[(cx+1):]])\n",
    "np.fill_diagonal(dropped_S, dropped_s)\n",
    "dropped_recon = dropped_U @ dropped_S @ dropped_V\n",
    "dd_U, dd_s, dd_V = svd(dropped_recon, full_matrices=False)"
   ]
  },
  {
   "cell_type": "code",
   "execution_count": null,
   "id": "e76d2511-55b9-4f11-b5da-a12fa0b8f9bf",
   "metadata": {},
   "outputs": [],
   "source": [
    "((phenotypes - dropped_recon)**2).sum().sum()"
   ]
  },
  {
   "cell_type": "code",
   "execution_count": null,
   "id": "b2ec4535-894f-4a2c-bfd7-492d8cd7a03d",
   "metadata": {},
   "outputs": [],
   "source": []
  },
  {
   "cell_type": "code",
   "execution_count": null,
   "id": "d2259964-1e86-4071-aa63-385d03dc1698",
   "metadata": {},
   "outputs": [],
   "source": [
    "dd_s **2 / (dd_s **2).sum()"
   ]
  },
  {
   "cell_type": "code",
   "execution_count": null,
   "id": "f8f49571-2223-4abe-8638-7d56d6fb959b",
   "metadata": {},
   "outputs": [],
   "source": [
    "dropped_V.shape"
   ]
  },
  {
   "cell_type": "code",
   "execution_count": null,
   "id": "3424e48c-22b8-41eb-91b2-ed8041843d15",
   "metadata": {},
   "outputs": [],
   "source": [
    "null_corrs = 1 - cdist(V[[0]], dropped_V, metric='correlation')"
   ]
  },
  {
   "cell_type": "code",
   "execution_count": null,
   "id": "7c2615ed-f059-48a2-9719-365f876c326a",
   "metadata": {},
   "outputs": [],
   "source": []
  },
  {
   "cell_type": "code",
   "execution_count": null,
   "id": "3fe6c622-54d0-45f5-9314-ff9bd3abca63",
   "metadata": {},
   "outputs": [],
   "source": [
    "null_corrs"
   ]
  },
  {
   "cell_type": "code",
   "execution_count": null,
   "id": "b7a8f113-994f-4d02-be02-14b58d53963f",
   "metadata": {},
   "outputs": [],
   "source": [
    "1 - cdist(V[[0]], V, metric='correlation')"
   ]
  },
  {
   "cell_type": "code",
   "execution_count": null,
   "id": "6c66ccc9-214e-4601-a538-77776554d250",
   "metadata": {},
   "outputs": [],
   "source": [
    "np.abs(null_corrs).max()"
   ]
  },
  {
   "cell_type": "code",
   "execution_count": null,
   "id": "57381767-e244-4557-a9b0-418646b17992",
   "metadata": {},
   "outputs": [],
   "source": [
    "np.abs(null_corrs).max()"
   ]
  },
  {
   "cell_type": "code",
   "execution_count": null,
   "id": "6d6c5d31-1214-49f3-ad7a-e0aa5c464487",
   "metadata": {},
   "outputs": [],
   "source": [
    "sns.heatmap(phenotypes - dropped_recon)"
   ]
  },
  {
   "cell_type": "code",
   "execution_count": null,
   "id": "911977ce-d9a7-4318-8ad5-989e1ea26826",
   "metadata": {},
   "outputs": [],
   "source": [
    "sns.heatmap(phenotypes)"
   ]
  },
  {
   "cell_type": "code",
   "execution_count": null,
   "id": "401fbeb8-639a-40a3-952e-12ec6cea1a14",
   "metadata": {},
   "outputs": [],
   "source": [
    "V[0]"
   ]
  },
  {
   "cell_type": "code",
   "execution_count": null,
   "id": "cefb690c-8045-4353-96bd-476fc193c606",
   "metadata": {},
   "outputs": [],
   "source": [
    "dropped_V[-1]"
   ]
  },
  {
   "cell_type": "code",
   "execution_count": null,
   "id": "72c80ae8-285d-494a-bde6-d383daedf67e",
   "metadata": {},
   "outputs": [],
   "source": [
    "sns.heatmap((1 - cdist(vals['Vt_split1'], vals['Vt_split2'], metric='correlation')), vmin=-1, vmax=1, cmap='RdBu')\n",
    "\n"
   ]
  },
  {
   "cell_type": "code",
   "execution_count": null,
   "id": "110decd9-fcdc-4a81-bc3c-0bd43bc68cdb",
   "metadata": {},
   "outputs": [],
   "source": [
    "m1, m2, disparity = procrustes(vals['Vt_split1'], vals['Vt_split2'])"
   ]
  },
  {
   "cell_type": "code",
   "execution_count": null,
   "id": "4b0c770b-b9fc-443a-9460-0665ce61e61e",
   "metadata": {},
   "outputs": [],
   "source": [
    "foo = vals['Vt_split1'].copy()\n",
    "foo[0:40] = vals['Vt_split2'][0:40]"
   ]
  },
  {
   "cell_type": "code",
   "execution_count": null,
   "id": "d3615b56-0413-40da-95f4-a9ee1f330688",
   "metadata": {},
   "outputs": [],
   "source": [
    "R, scale = orthogonal_procrustes(vals['Vt_split2'].T, vals['Vt_split1'].T)"
   ]
  },
  {
   "cell_type": "code",
   "execution_count": null,
   "id": "31634dab-6681-43b9-b7a2-31681acfc64b",
   "metadata": {},
   "outputs": [],
   "source": [
    "m2 = vals['Vt_split2'] @ R"
   ]
  },
  {
   "cell_type": "code",
   "execution_count": null,
   "id": "6e4e37b6-c5e3-4ecd-b2f2-6fcb0f142fc0",
   "metadata": {},
   "outputs": [],
   "source": [
    "plt.plot(R[0])"
   ]
  },
  {
   "cell_type": "code",
   "execution_count": null,
   "id": "b1532715-f202-4234-b76d-4f8bd88ea73b",
   "metadata": {},
   "outputs": [],
   "source": [
    "sns.heatmap(R, vmin=-1, vmax=1, cmap='RdBu')"
   ]
  },
  {
   "cell_type": "code",
   "execution_count": null,
   "id": "6692eb49-127a-49a8-aa8f-2ecde66d187c",
   "metadata": {},
   "outputs": [],
   "source": [
    "sns.heatmap((1 - cdist(m1, m2, metric='correlation')), vmin=-1, vmax=1, cmap='RdBu')"
   ]
  },
  {
   "cell_type": "code",
   "execution_count": null,
   "id": "3ccad865-b981-4e7f-a769-f66bbef02388",
   "metadata": {},
   "outputs": [],
   "source": [
    "disparity"
   ]
  },
  {
   "cell_type": "code",
   "execution_count": null,
   "id": "ba48e1a6-dd17-4c82-a73e-9b44d18222f2",
   "metadata": {},
   "outputs": [],
   "source": [
    "plt.scatter(vals['Vt_split1'][0], vals['Vt_split2'][0])"
   ]
  },
  {
   "cell_type": "code",
   "execution_count": null,
   "id": "214b625f-4fc1-46da-b428-393df86aaf33",
   "metadata": {},
   "outputs": [],
   "source": [
    "plt.scatter(vals['Vt_split1'][:, 0], vals['Vt_split2'][:, 0])"
   ]
  },
  {
   "cell_type": "code",
   "execution_count": null,
   "id": "e5cb314d-0fee-457f-9794-d3dabec9fb61",
   "metadata": {},
   "outputs": [],
   "source": []
  }
 ],
 "metadata": {
  "kernelspec": {
   "display_name": "Python 3 (ipykernel)",
   "language": "python",
   "name": "python3"
  },
  "language_info": {
   "codemirror_mode": {
    "name": "ipython",
    "version": 3
   },
   "file_extension": ".py",
   "mimetype": "text/x-python",
   "name": "python",
   "nbconvert_exporter": "python",
   "pygments_lexer": "ipython3",
   "version": "3.9.17"
  }
 },
 "nbformat": 4,
 "nbformat_minor": 5
}
